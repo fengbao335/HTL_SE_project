{
 "cells": [
  {
   "cell_type": "code",
   "execution_count": null,
   "metadata": {},
   "outputs": [],
   "source": [
    "# import all required package\n",
    "import pymysql\n",
    "import requests\n",
    "import json\n",
    "import sqlalchemy as sqla\n",
    "from sqlalchemy import create_engine\n",
    "import traceback\n",
    "import glob\n",
    "import os\n",
    "import requests\n",
    "import time\n",
    "import datetime\n",
    "from IPython.display import display"
   ]
  },
  {
   "cell_type": "code",
   "execution_count": null,
   "metadata": {},
   "outputs": [],
   "source": [
    "#set up connection with database\n",
    "engine = create_engine(\"mysql+pymysql://{}:{}@{}:{}/{}\".format(\"HTL\", \"HTL123456\", \"dbbikes.c48xjvxqywhq.us-east-1.rds.amazonaws.com\", \"3306\", \"dbbikes\"), echo=True)"
   ]
  },
  {
   "cell_type": "code",
   "execution_count": null,
   "metadata": {},
   "outputs": [],
   "source": [
    "#Create table STATION\n",
    "create_table_stand = \"\"\"\n",
    "CREATE TABLE IF NOT EXISTS STATION(\n",
    "address VARCHAR(256),\n",
    "available_bike_stands INTEGER,\n",
    "available_bikes INTEGER,\n",
    "banking VARCHAR(256),\n",
    "bike_stands INTEGER,\n",
    "bonus VARCHAR(256),\n",
    "contract_name VARCHAR(256),\n",
    "last_update VARCHAR(256),\n",
    "name VARCHAR(256),\n",
    "number INTEGER,\n",
    "position_lat REAL,\n",
    "position_lng REAL,\n",
    "status VARCHAR(256)\n",
    ")\"\"\"\n",
    "try:\n",
    "    res = engine.execute(create_table_stand)\n",
    "    print(res.fetchall())\n",
    "except Exception as e:\n",
    "    print(e)"
   ]
  },
  {
   "cell_type": "code",
   "execution_count": null,
   "metadata": {},
   "outputs": [],
   "source": [
    "#Create table WEATHER\n",
    "create_table_stand = \"\"\"\n",
    "CREATE TABLE IF NOT EXISTS WEATHER(\n",
    "dt INTEGER,\n",
    "humidity INTEGER,\n",
    "pressure INTEGER,\n",
    "temp DOUBLE,\n",
    "temp_max DOUBLE,\n",
    "temp_min DOUBLE,\n",
    "decription VARCHAR(256),\n",
    "icon VARCHAR(256),\n",
    "id INTEGER,\n",
    "main VARCHAR(256),\n",
    "wind_leg INTEGER,\n",
    "wind_speed DOUBLE,\n",
    ")\"\"\"\n",
    "try:\n",
    "    res = engine.execute(create_table_stand)\n",
    "    print(res.fetchall())\n",
    "except Exception as e:\n",
    "    print(e)"
   ]
  },
  {
   "cell_type": "code",
   "execution_count": null,
   "metadata": {},
   "outputs": [],
   "source": [
    "APIKEY = '5979ce80578015211c5630d5d3762548e5eba68d'\n",
    "NAME = \"Dublin\"\n",
    "STATIONS_URI = \"https://api.jcdecaux.com/vls/v1/stations\"\n",
    "#set up connection with RDS\n",
    "engine = create_engine(\"mysql+pymysql://{}:{}@{}:{}/{}\".format(\"HTL\", \"HTL123456\", \"dbbikes.c48xjvxqywhq.us-east-1.rds.amazonaws.com\", \"3306\", \"dbbikes\"), echo=True)\n",
    "#send requests to get station API information\n",
    "r = requests.get(STATIONS_URI, params={\"apiKey\": APIKEY, \"contract\": NAME})\n",
    "stations = (json.loads(r.text))\n",
    "for station in stations:\n",
    "    #insert JSON data to database every 5 mins\n",
    "    vals = (station.get('address'), station.get('available_bike_stands'), station.get('available_bikes'), station.get('banking'), station.get('bike_stands'), station.get('bonus'),  station.get('contract_name'), station.get('last_update'), station.get('name'), station.get('number'), station.get('position').get('lat'), station.get('position').get('lng'), station.get('status'))\n",
    "    engine.execute(\"insert into STATIONS(address, available_bike_stands, available_bikes, banking, bike_stands, bonus, contract_name, last_update, name, number, position_lat, position_lng, status)values (%s,%s,%s,%s,%s,%s,%s,%s,%s,%s,%s,%s,%s)\", vals)\n"
   ]
  },
  {
   "cell_type": "code",
   "execution_count": null,
   "metadata": {},
   "outputs": [],
   "source": [
    "APIKEY = '9511c6f09bf671d3bd65bf650197234f'\n",
    "NAME = \"Dublin\"\n",
    "WEATHER_URI = \"http://api.openweathermap.org/data/2.5/weather?q=Dublin\"\n",
    "#set up connection with RDS\n",
    "engine = create_engine(\"mysql+mysqldb://{}:{}@{}:{}/{}\".format(\"HTL\", \"HTL123456\", \"dbbikes.c48xjvxqywhq.us-east-1.rds.amazonaws.com\", \"3306\", \"dbbikes\"), echo=True)\n",
    "while True:\n",
    "    #send requests to get station API information\n",
    "    r = requests.get(WEATHER_URI, params={\"apiKey\": APIKEY, \"contract\": NAME})\n",
    "    weather = (json.loads(r.text))\n",
    "    #insert JSON data to database every one hour\n",
    "    vals = (weather.get('dt'), weather.get('main').get('humidity'), weather.get('main').get('pressure'), weather.get('main').get('temp'), weather.get('main').get('temp_max'), weather.get('main').get('temp_min'),  weather.get('weather')[0].get('description'), weather.get('weather')[0].get('icon'), weather.get('weather')[0].get('id'), weather.get('weather')[0].get('main'), weather.get('wind').get('deg'), weather.get('wind').get('speed'))\n",
    "    engine.execute(\"insert into WEATHER(dt, humidity, pressure, temp, temp_max, temp_min, description, icon, id, main, wind_deg, wind_speed)values (%s,%s,%s,%s,%s,%s,%s,%s,%s,%s,%s,%s)\", vals)\n",
    "    time.sleep(60*60)"
   ]
  }
 ],
 "metadata": {
  "kernelspec": {
   "display_name": "Python 3",
   "language": "python",
   "name": "python3"
  },
  "language_info": {
   "codemirror_mode": {
    "name": "ipython",
    "version": 3
   },
   "file_extension": ".py",
   "mimetype": "text/x-python",
   "name": "python",
   "nbconvert_exporter": "python",
   "pygments_lexer": "ipython3",
   "version": "3.7.0"
  }
 },
 "nbformat": 4,
 "nbformat_minor": 2
}
